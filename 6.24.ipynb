{
 "cells": [
  {
   "cell_type": "code",
   "execution_count": null,
   "id": "65b7f4ba",
   "metadata": {},
   "outputs": [],
   "source": [
    "--is entire solving algorithm\n",
    "--NOT DONE!! is in partial state"
   ]
  },
  {
   "cell_type": "code",
   "execution_count": null,
   "id": "7131d267",
   "metadata": {},
   "outputs": [],
   "source": [
    "installPackage \"NumericalAlgebraicGeometry\";"
   ]
  },
  {
   "cell_type": "code",
   "execution_count": null,
   "id": "adece0f7",
   "metadata": {},
   "outputs": [],
   "source": [
    "R=CC[t][x]\n",
    "S=CC;       --the solution space\n",
    "P=CC;       --the parameter space\n",
    "use R;\n",
    "\n",
    "roundTo=2;\n",
    "epsilon=0.2;"
   ]
  },
  {
   "cell_type": "code",
   "execution_count": null,
   "id": "e5365183",
   "metadata": {},
   "outputs": [],
   "source": [
    "listOfPortals={};\n",
    "portals=new MutableHashTable;\n",
    "F;"
   ]
  },
  {
   "cell_type": "code",
   "execution_count": null,
   "id": "843b92b6",
   "metadata": {},
   "outputs": [],
   "source": [
    "--rounds complex number to n decimal places\n",
    "--used for storing approx zeroes/params in hashtable w/o unnecessary overlap\n",
    "rounds=method();\n",
    "rounds(ZZ,CC):=(n,c)->{\n",
    "    a=realPart(c);\n",
    "    b=imaginaryPart(c);\n",
    "    a=sub(a,RR);\n",
    "    b=sub(b,RR);\n",
    "    return round(n, a)+round(n, b)*ii;\n",
    "};"
   ]
  },
  {
   "cell_type": "code",
   "execution_count": null,
   "id": "ebbe2e9f",
   "metadata": {},
   "outputs": [],
   "source": [
    "--R: a portal ti and a solution xi to the system F_xi\n",
    "--M: none\n",
    "--E: returns a function g(t) that approximates F near (xi,ti)\n",
    "--note: later, will do sampling\n",
    "\n",
    "getApprox=(ti, xi)->{\n",
    "    Fx=diff(x,F);   --yes, standard form is diff(x,f) for differentiate f wrt x\n",
    "    Ft=diff(t,F);\n",
    "    \n",
    "    --yes, standard form is sub(F,{t=>2}), which works\n",
    "    --also, need to do division in CC, otherwise get weird fraction field stuff\n",
    "    \n",
    "    g=xi-sub(sub(Ft,{x=>xi,t=>ti}),CC)/sub(sub(Fx,{x=>xi,t=>ti}),CC)*(t-ti); \n",
    "    \n",
    "    --print(g);\n",
    "    \n",
    "    return g;\n",
    "\n",
    "};"
   ]
  },
  {
   "cell_type": "code",
   "execution_count": null,
   "id": "f30185ba",
   "metadata": {},
   "outputs": [],
   "source": [
    "--R: a function fti approximating around xi, ti; and a new parameter value tj; \n",
    "--M: if f approximates F_tj well, then appends Q_tj with new solution to F_tj \n",
    "--E: returns null if f does not approximate F_tj well, otherwise returns the zero of F_tj that f finds\n",
    "--note: later, will check how far xj is from initGuess as you keep doing Newton's\n",
    "\n",
    "inRGA=(fti, tj)-> {\n",
    "    f=sub(sub(F,{t=>tj}), CC[x]);\n",
    "    initGuess=sub(sub(fti,{t=>tj}),S);\n",
    "    xj=point{{initGuess}};\n",
    "    \n",
    "    --try(\n",
    "        \n",
    "        for i from 1 to 20 do (\n",
    "            xj=newton(polySystem{f},xj);\n",
    "        \n",
    "        );\n",
    "        \n",
    "    --) then (\n",
    "    \n",
    "        roundedTj=rounds(roundTo, tj_CC);\n",
    "        if ((abs(abs(sub(initGuess,CC))-abs(sub(xj.Coordinates_0,CC))))) < epsilon then (\n",
    "        \n",
    "            newSol=rounds(roundTo,(xj.Coordinates_0)_CC);\n",
    "            if member(newSol, portals#roundedTj) then ( return false ) else (\n",
    "                portals#roundedTj=portals#roundedTj +set{newSol}; --adds xi solution to ti\n",
    "                return (true, newSol);\n",
    "            \n",
    "            );\n",
    "        \n",
    "            \n",
    "            \n",
    "        ) else (\n",
    "            return (false, 1);\n",
    "        );\n",
    "        \n",
    "        \n",
    "    --) else (\n",
    "        \n",
    "    --    return (false,0);\n",
    "    --);\n",
    "};"
   ]
  },
  {
   "cell_type": "code",
   "execution_count": null,
   "id": "6b057b8f",
   "metadata": {},
   "outputs": [],
   "source": [
    "--R\n",
    "--M\n",
    "--E\n",
    "\n",
    "iterateOnce=(xi, ti)->{\n",
    "    g=getApprox(xi,ti);\n",
    "    for tj in listOfPortals do (\n",
    "        if tj!=ti then (\n",
    "        \n",
    "            potentialZero=inRGA(g, tj);\n",
    "            print(potentialZero);\n",
    "            if potentialZero_0 then (\n",
    "                print(\"woohoo\");\n",
    "            );\n",
    "        \n",
    "        );\n",
    "    );\n",
    "};"
   ]
  },
  {
   "cell_type": "code",
   "execution_count": null,
   "id": "62a64f36",
   "metadata": {},
   "outputs": [],
   "source": [
    "--R\n",
    "--M\n",
    "--E\n",
    "\n",
    "solveAll=(x0, t0, listOfPortals)->{\n",
    "    for pi in listOfPortals do (\n",
    "        roundedPi=rounds(roundTo, pi_CC);\n",
    "        portals#roundedPi= set {}; --initial empty set\n",
    "    );\n",
    "\n",
    "    iterateOnce(x0, t0);\n",
    "\n",
    "};"
   ]
  },
  {
   "cell_type": "code",
   "execution_count": null,
   "id": "99170ea3",
   "metadata": {},
   "outputs": [],
   "source": [
    "F=(x^3-3*x-t)_R;\n",
    "x0=0;\n",
    "t0=0;\n",
    "listOfPortals={0, 1};\n",
    "\n",
    "solveAll(x0,t0,listOfPortals)"
   ]
  },
  {
   "cell_type": "code",
   "execution_count": null,
   "id": "d50041b4",
   "metadata": {},
   "outputs": [],
   "source": [
    "peek portals"
   ]
  },
  {
   "cell_type": "code",
   "execution_count": null,
   "id": "4c013b41",
   "metadata": {},
   "outputs": [],
   "source": []
  }
 ],
 "metadata": {
  "kernelspec": {
   "display_name": "M2",
   "language": "text/x-macaulay2",
   "name": "m2"
  },
  "language_info": {
   "codemirror_mode": "macaulay2",
   "file_extension": ".m2",
   "mimetype": "text/x-macaulay2",
   "name": "Macaulay2"
  }
 },
 "nbformat": 4,
 "nbformat_minor": 5
}
