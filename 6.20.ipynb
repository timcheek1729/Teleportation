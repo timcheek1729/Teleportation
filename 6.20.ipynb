{
 "cells": [
  {
   "cell_type": "code",
   "execution_count": null,
   "id": "7aeb3894",
   "metadata": {},
   "outputs": [],
   "source": [
    "--is NaiveHomotopyTracking"
   ]
  },
  {
   "cell_type": "code",
   "execution_count": null,
   "id": "04d00014",
   "metadata": {},
   "outputs": [],
   "source": [
    "installPackage \"NumericalAlgebraicGeometry\";"
   ]
  },
  {
   "cell_type": "code",
   "execution_count": null,
   "id": "6ff19151",
   "metadata": {},
   "outputs": [],
   "source": [
    "R2=CC[x];\n",
    "R1=CC[x][t];\n",
    "use R1;"
   ]
  },
  {
   "cell_type": "code",
   "execution_count": null,
   "id": "e73a9e4b",
   "metadata": {},
   "outputs": [],
   "source": [
    "predictor=(H,x0,t0, changeT)->{\n",
    "    Hx=diff(x,H);   --yes, standard form is diff(x,f) for differentiate f wrt x\n",
    "    Ht=diff(t,H);\n",
    "    c=-sub(sub(Ht,{x=>x0,t=>t0}),CC)/sub(sub(Hx,{x=>x0,t=>t0}),CC);\n",
    "    g=x0+c*changeT;\n",
    "\n",
    "    return g;\n",
    "};"
   ]
  },
  {
   "cell_type": "code",
   "execution_count": null,
   "id": "9df3c207",
   "metadata": {},
   "outputs": [],
   "source": [
    "corrector=(H, xt, t0)->{\n",
    "    H=sub(sub(H,{t=>t0}),R2);\n",
    "    guess=point{{xt}};\n",
    "    for i from 1 to 5 do (\n",
    "        guess=newton(polySystem{H},guess);\n",
    "        \n",
    "        --print(guess.Coordinates);\n",
    "    );\n",
    "    return guess.Coordinates_0;\n",
    "};"
   ]
  },
  {
   "cell_type": "code",
   "execution_count": null,
   "id": "ff9293dd",
   "metadata": {},
   "outputs": [],
   "source": [
    "naiveHomTrack=(H, x0, N)->{\n",
    "    changeT= 1/N;\n",
    "    xt=x0;\n",
    "    for i from 1 to N do (\n",
    "        paramT=i*changeT;\n",
    "        xt=predictor(H, xt, paramT, changeT); --the xt being passed in is the previous x values\n",
    "        xt=corrector(H, xt, paramT);\n",
    "    );\n",
    "    return xt;\n",
    "};"
   ]
  },
  {
   "cell_type": "code",
   "execution_count": null,
   "id": "f3f19b6a",
   "metadata": {
    "scrolled": false
   },
   "outputs": [],
   "source": [
    "x0=0;\n",
    "t0=0;\n",
    "\n",
    "t1=4+10000*ii;\n",
    "t2=4+10000*ii;\n",
    "stepSize=25;\n",
    "\n",
    "Base=(x^3-3*x-t0)_R1;\n",
    "Int1=(x^3-3*x-t1)_R1;\n",
    "Int2=(x^3-3*x-t2)_R1;\n",
    "\n",
    "H1=(1-t)*Base+t*Int1;\n",
    "H2=(1-t)*Int1+t*Int2;\n",
    "H3=(1-t)*Int2+t*Base;\n",
    "\n",
    "z1=naiveHomTrack(H1, x0, stepSize);\n",
    "z2=naiveHomTrack(H2, z1, stepSize);\n",
    "newSol=naiveHomTrack(H3, z2, stepSize);\n",
    "newSol"
   ]
  },
  {
   "cell_type": "code",
   "execution_count": null,
   "id": "217f07be",
   "metadata": {},
   "outputs": [],
   "source": [
    "--BEFORE RUNNING: check how many steps Newton's actually takes, should NOT be that mucn (maybee 10)\n",
    "\n",
    "x0=0;\n",
    "t0=0;\n",
    "\n",
    "s=0;#should be like 10 if actually run\n",
    "V=mutableIdentity(R1,2*s+1);\n",
    "Coords=mutableIdentity(R1,2*s+1);\n",
    "print V;\n",
    "for j from 0 to 2*s do (\n",
    "    for i from 0 to 2*s do (\n",
    "        try(\n",
    "            t1=(-5+0.5*i)+(5-0.5*j)*ii;\n",
    "            t2=(-5+0.5*i)-(5-0.5*j)*ii;\n",
    "            Base=(x^3-3*x-t0)_R1;\n",
    "            Int1=(x^3-3*x-t1)_R1;\n",
    "            Int2=(x^3-3*x-t2)_R1;\n",
    "\n",
    "            H1=(1-t)*Base+t*Int1;\n",
    "            H2=(1-t)*Int1+t*Int2;\n",
    "            H3=(1-t)*Int2+t*Base;\n",
    "\n",
    "            z1=naiveHomTrack(H1, x0, 5);\n",
    "            z2=naiveHomTrack(H2, z1, 5);\n",
    "            newSol=naiveHomTrack(H3, z2, 5);\n",
    "        ) then (\n",
    "            print(newSol);\n",
    "            V_(i,j)= newSol;\n",
    "        ) else (\n",
    "            V_(i,j)= 9;\n",
    "        );\n",
    "        Coords_(i,j)=(-5+0.5*i)+(5-0.5*j)*ii;\n",
    "    );\n",
    ");\n",
    "print V;\n",
    "print Coords;\n",
    "print transpose(V);"
   ]
  },
  {
   "cell_type": "code",
   "execution_count": null,
   "id": "21d100be",
   "metadata": {},
   "outputs": [],
   "source": []
  }
 ],
 "metadata": {
  "kernelspec": {
   "display_name": "M2",
   "language": "text/x-macaulay2",
   "name": "m2"
  },
  "language_info": {
   "codemirror_mode": "macaulay2",
   "file_extension": ".m2",
   "mimetype": "text/x-macaulay2",
   "name": "Macaulay2"
  }
 },
 "nbformat": 4,
 "nbformat_minor": 5
}
