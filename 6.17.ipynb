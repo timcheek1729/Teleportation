{
 "cells": [
  {
   "cell_type": "code",
   "execution_count": 1,
   "id": "04d00014",
   "metadata": {},
   "outputs": [
    {
     "name": "stdout",
     "output_type": "stream",
     "text": [
      "stdio:2:1:(3): error: installPackage: the package is already installed and loaded from /Users/timcheek/Library/Application Support/Macaulay2/local/share/Macaulay2/\n"
     ]
    }
   ],
   "source": [
    "installPackage \"NumericalAlgebraicGeometry\";"
   ]
  },
  {
   "cell_type": "code",
   "execution_count": 15,
   "id": "6ff19151",
   "metadata": {},
   "outputs": [
    {
     "name": "stdout",
     "output_type": "stream",
     "text": [
      "\n",
      "\n"
     ]
    }
   ],
   "source": [
    "R2=CC[x];\n",
    "R1=CC[x,t];\n",
    "use R1;"
   ]
  },
  {
   "cell_type": "code",
   "execution_count": 16,
   "id": "9b3a1c87",
   "metadata": {},
   "outputs": [],
   "source": [
    "taylorPoly=(f, x0, t0) -> {\n",
    "    Fx=diff(x,f);   --yes, standard form is diff(x,f) for differentiate f wrt x\n",
    "    Ft=diff(t,f);\n",
    "    --yes, standard form is sub(f,{t=>2}), which works\n",
    "    --also, need to do division in CC, otherwise get weird fraction field stuff\n",
    "    g=x0-sub(sub(Ft,{x=>x0,t=>t0}),CC)/sub(sub(Fx,{x=>x0,t=>t0}),CC)*(t-t0);   \n",
    "    return g;\n",
    "};"
   ]
  },
  {
   "cell_type": "code",
   "execution_count": 17,
   "id": "42505530",
   "metadata": {},
   "outputs": [],
   "source": [
    "runCorrector=(F, newT, guess)-> {\n",
    "    f=sub(sub(F,{t=>newT}),R2);\n",
    "    guess=point{{guess}};\n",
    "    for i from 1 to 99 do (\n",
    "        guess=newton(polySystem{f},guess);\n",
    "        \n",
    "        --print(guess.Coordinates);\n",
    "    );\n",
    "    return guess;\n",
    "};"
   ]
  },
  {
   "cell_type": "code",
   "execution_count": 24,
   "id": "403df1c0",
   "metadata": {},
   "outputs": [],
   "source": [
    "runAlgo=(F,x0,t0, newP1, newP2)->{\n",
    "    approxFunc=taylorPoly(F,x0,t0);\n",
    "    \n",
    "    --now, substitute in other portal t1 value into g(t), to get approx zero for F(x,t1)=0 system\n",
    "    --note that the complex number is represented by ii\n",
    "\n",
    "    zeroGuess=sub(approxFunc,{t=>newP1});\n",
    "    \n",
    "    --now, apply newtons to the F(x,newP1)=0 system, using the zeroGuess estimate\n",
    "    \n",
    "    newX1= runCorrector(F, newP1, zeroGuess);\n",
    "    \n",
    "    --now, we have that (newX, newP) is a different solution to F(x,t)=0 (at least it should be)\n",
    "    \n",
    "    approxFunc=taylorPoly(F,newX1.Coordinates_0, newP1);\n",
    "    zeroGuess=sub(approxFunc, {t=>newP2});\n",
    "    newX2=runCorrector(F, newP2, zeroGuess);\n",
    "    \n",
    "    approxFunc=taylorPoly(F,newX2.Coordinates_0, t0);\n",
    "    zeroGuess=sub(approxFunc, {t=>t0});\n",
    "    return runCorrector(F, t0, zeroGuess);\n",
    "    \n",
    "};"
   ]
  },
  {
   "cell_type": "code",
   "execution_count": 49,
   "id": "f3f19b6a",
   "metadata": {},
   "outputs": [
    {
     "name": "stdout",
     "output_type": "stream",
     "text": [
      "\n",
      "\n",
      "\n",
      "\n",
      "\n",
      "o49 = - 1.5 - 1.93649*ii\n",
      "\n",
      "o49 : R1\n"
     ]
    }
   ],
   "source": [
    "F=(x^3-3*x-t)_R1;\n",
    "x0=3;\n",
    "t0=18;\n",
    "\n",
    "\n",
    "guessPoint=runAlgo(F,x0,t0,random(CC)*10, random(CC)*-1*10);\n",
    "guessPoint.Coordinates_0"
   ]
  },
  {
   "cell_type": "code",
   "execution_count": null,
   "id": "b09f383f",
   "metadata": {},
   "outputs": [],
   "source": []
  },
  {
   "cell_type": "code",
   "execution_count": null,
   "id": "a70e2f69",
   "metadata": {},
   "outputs": [],
   "source": []
  }
 ],
 "metadata": {
  "kernelspec": {
   "display_name": "M2",
   "language": "text/x-macaulay2",
   "name": "m2"
  },
  "language_info": {
   "codemirror_mode": "macaulay2",
   "file_extension": ".m2",
   "mimetype": "text/x-macaulay2",
   "name": "Macaulay2"
  }
 },
 "nbformat": 4,
 "nbformat_minor": 5
}
