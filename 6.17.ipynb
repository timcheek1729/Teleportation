{
 "cells": [
  {
   "cell_type": "code",
   "execution_count": 1,
   "id": "04d00014",
   "metadata": {},
   "outputs": [
    {
     "name": "stdout",
     "output_type": "stream",
     "text": [
      "stdio:2:1:(3): error: installPackage: the package is already installed and loaded from /Users/timcheek/Library/Application Support/Macaulay2/local/share/Macaulay2/\n"
     ]
    }
   ],
   "source": [
    "installPackage \"NumericalAlgebraicGeometry\";"
   ]
  },
  {
   "cell_type": "code",
   "execution_count": 4,
   "id": "6ff19151",
   "metadata": {},
   "outputs": [
    {
     "name": "stdout",
     "output_type": "stream",
     "text": [
      "\n",
      "\n"
     ]
    }
   ],
   "source": [
    "R2=CC[x];\n",
    "R1=CC[x][t];\n",
    "use R1;"
   ]
  },
  {
   "cell_type": "code",
   "execution_count": 5,
   "id": "9b3a1c87",
   "metadata": {},
   "outputs": [],
   "source": [
    "taylorPoly=(f, x0, t0) -> {\n",
    "    Fx=diff(x,f);   --yes, standard form is diff(x,f) for differentiate f wrt x\n",
    "    Ft=diff(t,f);\n",
    "    --yes, standard form is sub(f,{t=>2}), which works\n",
    "    --also, need to do division in CC, otherwise get weird fraction field stuff\n",
    "    g=x0-sub(sub(Ft,{x=>x0,t=>t0}),CC)/sub(sub(Fx,{x=>x0,t=>t0}),CC)*(t-t0);   \n",
    "    return g;\n",
    "};"
   ]
  },
  {
   "cell_type": "code",
   "execution_count": 6,
   "id": "42505530",
   "metadata": {},
   "outputs": [],
   "source": [
    "runCorrector=(F, newT, guess)-> {\n",
    "    f=sub(sub(F,{t=>newT}),R2);    \n",
    "    guess=point{{guess}};\n",
    "    for i from 1 to 99 do (\n",
    "        guess=newton(polySystem{f},guess);\n",
    "        \n",
    "        --print(guess.Coordinates);\n",
    "    );\n",
    "    return guess;\n",
    "};"
   ]
  },
  {
   "cell_type": "code",
   "execution_count": 134,
   "id": "403df1c0",
   "metadata": {},
   "outputs": [],
   "source": [
    "runAlgo=(F,x0,t0, newP1, newP2)->{\n",
    "    approxFunc=taylorPoly(F,x0,t0);\n",
    "    \n",
    "    --now, substitute in other portal t1 value into g(t), to get approx zero for F(x,t1)=0 system\n",
    "    --note that the complex number is represented by ii\n",
    "\n",
    "    zeroGuess=sub(approxFunc,{t=>newP1});\n",
    "    \n",
    "    --now, apply newtons to the F(x,newP1)=0 system, using the zeroGuess estimate\n",
    "    \n",
    "    newX1= runCorrector(F, newP1, zeroGuess);\n",
    "    --newX1.Coordinates_0;\n",
    "    --now, we have that (newX, newP) is a different solution to F(x,t)=0 (at least it should be)\n",
    "    \n",
    "    approxFunc=taylorPoly(F,newX1.Coordinates_0, newP1);\n",
    "    zeroGuess=sub(approxFunc, {t=>newP2});\n",
    "    newX2=runCorrector(F, newP2, zeroGuess);\n",
    "    \n",
    "    --zeroGuess=sub(approxFunc, {t=>t0});\n",
    "    --newX2=runCorrector(F, t0, zeroGuess);\n",
    "    --return newX2;\n",
    "    \n",
    "    approxFunc=taylorPoly(F,newX2.Coordinates_0, newP2);\n",
    "    zeroGuess=sub(approxFunc, {t=>t0});\n",
    "    return runCorrector(F, t0, zeroGuess);\n",
    "    \n",
    "};"
   ]
  },
  {
   "cell_type": "code",
   "execution_count": 139,
   "id": "f3f19b6a",
   "metadata": {},
   "outputs": [
    {
     "name": "stdout",
     "output_type": "stream",
     "text": [
      "\n",
      "\n",
      "\n",
      "\n",
      "\n",
      "o139 = -1.73205\n",
      "\n",
      "o139 : CC  [x]\n",
      "         53\n"
     ]
    }
   ],
   "source": [
    "F=(x^3-3*x-t)_R1;\n",
    "x0=0;\n",
    "t0=0;\n",
    "\n",
    "guessPoint=runAlgo(F,x0,t0,2+0.5*ii,2-0.5*ii);\n",
    "guessPoint.Coordinates_0"
   ]
  },
  {
   "cell_type": "code",
   "execution_count": 62,
   "id": "6d089858",
   "metadata": {},
   "outputs": [
    {
     "name": "stdout",
     "output_type": "stream",
     "text": [
      "\n",
      "\n",
      "\n",
      "\n",
      "\n",
      "stdio:143:20:(3): error: no method found for applying promote to:\n",
      "     argument 1 :  0 (of class CC  [x])\n",
      "                                 53\n",
      "     argument 2 :  CC\n",
      "                     53\n",
      "\n",
      "| 1 0 0 |\n",
      "| 0 1 0 |\n",
      "| 0 0 1 |\n"
     ]
    }
   ],
   "source": [
    "--THIS IS A 2-GON\n",
    "F=(x^3-3*x-t)_R1;\n",
    "x0=0;\n",
    "t0=0;\n",
    "\n",
    "s=10;\n",
    "V=mutableIdentity(R1,2*s+1);\n",
    "Coords=mutableIdentity(R1,2*s+1);\n",
    "print V;\n",
    "for j from 0 to 2*s do (\n",
    "    for i from 0 to 2*s do (\n",
    "        try(\n",
    "            newSol=runAlgo(F,x0,t0,(-5+0.5*i)+(5-0.5*j)*ii,t0);\n",
    "        \n",
    "            \n",
    "        \n",
    "            \n",
    "        ) then (\n",
    "            print(newSol.Coordinates_0);\n",
    "            V_(i,j)= newSol.Coordinates_0;\n",
    "        ) else (\n",
    "            V_(i,j)= 9;\n",
    "        );\n",
    "        Coords_(i,j)=(-5+0.5*i)+(5-0.5*j)*ii;\n",
    "    );\n",
    ");\n",
    "print V;\n",
    "print Coords;"
   ]
  },
  {
   "cell_type": "code",
   "execution_count": 123,
   "id": "198055e2",
   "metadata": {},
   "outputs": [
    {
     "name": "stdout",
     "output_type": "stream",
     "text": [
      "\n",
      "\n",
      "| 1 0 0 0 0 0 0 |\n",
      "| 0 1 0 0 0 0 0 |\n",
      "| 0 0 1 0 0 0 0 |\n",
      "| 0 0 0 1 0 0 0 |\n",
      "| 0 0 0 0 1 0 0 |\n",
      "| 0 0 0 0 0 1 0 |\n",
      "| 0 0 0 0 0 0 1 |\n",
      "\n",
      "\r\n",
      "o123 = [KERNEL ENFORCED TIMEOUT]"
     ]
    }
   ],
   "source": [
    "--THIS IS A TRIANGLE--second vertex is reflection over x-axis (compared to first vertex)\n",
    "F=(x^3-3*x-t)_R1;\n",
    "x0=0;\n",
    "t0=0;\n",
    "\n",
    "s=10;\n",
    "V=mutableIdentity(R1,2*s+1);\n",
    "Coords=mutableIdentity(R1,2*s+1);\n",
    "print V;\n",
    "for j from 0 to 2*s do (\n",
    "    for i from 0 to 2*s do (\n",
    "        try(\n",
    "            newSol=runAlgo(F,x0,t0,(-5+0.5*i)+(5-0.5*j)*ii,(-5+0.5*i)-(5-0.5*j)*ii);\n",
    "        \n",
    "            \n",
    "        \n",
    "            \n",
    "        ) then (\n",
    "            print(newSol.Coordinates_0);\n",
    "            V_(i,j)= newSol.Coordinates_0;\n",
    "        ) else (\n",
    "            V_(i,j)= 9;\n",
    "        );\n",
    "        Coords_(i,j)=(-5+0.5*i)+(5-0.5*j)*ii;\n",
    "    );\n",
    ");\n",
    "print V;\n",
    "print Coords;"
   ]
  },
  {
   "cell_type": "code",
   "execution_count": null,
   "id": "630f7460",
   "metadata": {},
   "outputs": [],
   "source": []
  }
 ],
 "metadata": {
  "kernelspec": {
   "display_name": "M2",
   "language": "text/x-macaulay2",
   "name": "m2"
  },
  "language_info": {
   "codemirror_mode": "macaulay2",
   "file_extension": ".m2",
   "mimetype": "text/x-macaulay2",
   "name": "Macaulay2"
  }
 },
 "nbformat": 4,
 "nbformat_minor": 5
}
